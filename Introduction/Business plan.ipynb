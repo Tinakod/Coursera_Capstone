{
    "cells": [
        {
            "metadata": {
                "collapsed": true
            },
            "cell_type": "markdown",
            "source": "# The battle of the Neighbourhoods- Week 1"
        },
        {
            "metadata": {},
            "cell_type": "markdown",
            "source": "## Introduction and Business Plan"
        },
        {
            "metadata": {},
            "cell_type": "markdown",
            "source": "### Problem background:"
        },
        {
            "metadata": {},
            "cell_type": "markdown",
            "source": "Toronto is the capital city of the Canadian province of Ontario. With a recorded population of 2,731,571 is the most populous city in North America. Toronto is an international centre of business, finance, arts, and culture, and is recognized as one of the most **multicultural** and **cosmopolitan** cities in the world."
        },
        {
            "metadata": {},
            "cell_type": "markdown",
            "source": "This means that the market is highly competitive meaning that the cost of doing business is one of the highest. Therefore, any new business setting must be analyzed thorougly so as to have the most profit of it. **Statistical analysis** of the proper data is mandatory, because it will certainly reduce the risk of failure."
        },
        {
            "metadata": {},
            "cell_type": "markdown",
            "source": "### Problem description:"
        },
        {
            "metadata": {},
            "cell_type": "markdown",
            "source": "A restaurant is a business which prepares and serves food, and other services to costumers in return for money. Toronto is famous for the excellent cuisine and the vast variety of restaurants influenced by the different cuisines that exist around the world. In order to survive in such a competitive environment, a new restaurant must take into consideration various data, and come up with a strategical plan."
        },
        {
            "metadata": {},
            "cell_type": "markdown",
            "source": "To recommend the correct location, *AC Company* has appointed me to lead of the Data Science team. The objective is to locate and recommend to the management which neighborhood of Toronto will be best choice to start a restaurant. "
        },
        {
            "metadata": {},
            "cell_type": "markdown",
            "source": "My analysis for the best location will be based in focusing of the neighbourhood/area with the minimum number of restaurants,and close proximity to Public Transportation, combined with population that has a high income."
        },
        {
            "metadata": {},
            "cell_type": "markdown",
            "source": "### Data description:"
        },
        {
            "metadata": {},
            "cell_type": "markdown",
            "source": "*Based on the description of the problem, factors that may impact the decision are:*\n\n1. Demographic information: population income\n2. Number of existing restaurants in the neighbourhood or nearby\n3. Proximity to Public Transportation"
        },
        {
            "metadata": {},
            "cell_type": "markdown",
            "source": "I will need a list of neighbourhoods in Toronto broken down by postal code, which i will access through wikipedia and load to my dataset.\nhttps://en.wikipedia.org/wiki/List_of_postal_codes_of_Canada:_M"
        },
        {
            "metadata": {},
            "cell_type": "markdown",
            "source": "I will need a list of population by postal code, which i will import through https://www12.statcan.gc.ca/census-recensement/2016/dp-pd/hlt-fst/pd-pl/Tables/File.cfm?T=1201&SR=1&RPP=9999&PR=0&CMA=0&CSD=0&S=22&O=A&Lang=Eng&OFT=CSV"
        },
        {
            "metadata": {},
            "cell_type": "markdown",
            "source": "I will need a list of Toronto neighbourhoods with average income broken down by postal code, which will access through Toronto census data.\n\nhttps://www12.statcan.gc.ca/census-recensement/2016/dp-pd/prof/details/page.cfm?Lang=E&Geo1=CMACA&Code1=535&Geo2=PR&Code2=35&SearchText=Toronto&SearchType=Begins&SearchPR=01&B1=Income&TABID=1&type=0"
        },
        {
            "metadata": {},
            "cell_type": "markdown",
            "source": "I will need a list of all Toronto restaurants venues by postal code, which I will access through the 4SQUARE API. I will also use the same application to extract the restaurants with close proximity to public transport."
        },
        {
            "metadata": {},
            "cell_type": "markdown",
            "source": "Finally, I will combine all of these to cluster and geo spatial map of the results showing the best neighbourhood to open a new restaurant in Toronto."
        },
        {
            "metadata": {},
            "cell_type": "code",
            "source": "",
            "execution_count": null,
            "outputs": []
        }
    ],
    "metadata": {
        "kernelspec": {
            "name": "python3",
            "display_name": "Python 3.7",
            "language": "python"
        },
        "language_info": {
            "name": "python",
            "version": "3.7.10",
            "mimetype": "text/x-python",
            "codemirror_mode": {
                "name": "ipython",
                "version": 3
            },
            "pygments_lexer": "ipython3",
            "nbconvert_exporter": "python",
            "file_extension": ".py"
        }
    },
    "nbformat": 4,
    "nbformat_minor": 1
}