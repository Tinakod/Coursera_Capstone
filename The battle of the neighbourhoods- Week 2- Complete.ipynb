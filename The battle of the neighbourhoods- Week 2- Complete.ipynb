{
    "cells": [
        {
            "metadata": {
                "collapsed": true
            },
            "cell_type": "markdown",
            "source": "# THE BATTLE OF THE NEIGHBORHOODS- WEEK 2"
        },
        {
            "metadata": {},
            "cell_type": "markdown",
            "source": "### 1. Introduction"
        },
        {
            "metadata": {},
            "cell_type": "markdown",
            "source": "#### 1.1 Background"
        },
        {
            "metadata": {},
            "cell_type": "markdown",
            "source": "Toronto is the capital city of the Canadian province of Ontario. With a recorded population of 2,731,571 is the most populous city in North America. Toronto is an international centre of business, finance, arts, and culture, and is recognized as one of the most multicultural and cosmopolitan cities in the world.\n\nThis means that the market is highly competitive meaning that the cost of doing business is one of the highest. Therefore, any new business setting must be analyzed thorougly so as to have the most profit of it. Statistical analysis of the proper data is mandatory, because it will certainly reduce the risk of failure."
        },
        {
            "metadata": {},
            "cell_type": "markdown",
            "source": "#### 1.2 Problem"
        },
        {
            "metadata": {},
            "cell_type": "markdown",
            "source": "A restaurant is a business which prepares and serves food, and other services to costumers in return for money. Toronto is famous for the excellent cuisine and the vast variety of restaurants influenced by the different cuisines that exist around the world. In order to survive in such a competitive environment, a new restaurant must take into consideration various data, and come up with a strategical plan.\n\nTo recommend the correct location, AC Company has appointed me to lead of the Data Science team. The objective is to locate and recommend to the management which neighborhood of Toronto will be best choice to start a restaurant.\n\nMy analysis for the best location will be based in focusing of the neighbourhood/area with the minimum number of restaurants,and close proximity to Public Transportation, combined with population that has a high income."
        },
        {
            "metadata": {},
            "cell_type": "markdown",
            "source": "#### 1.3 Interest"
        },
        {
            "metadata": {},
            "cell_type": "markdown",
            "source": "This analysis is of interest for anyone who wants to open a new restaurant in Toronto."
        },
        {
            "metadata": {},
            "cell_type": "markdown",
            "source": "### 2. Data acquisition and cleaning"
        },
        {
            "metadata": {},
            "cell_type": "markdown",
            "source": "#### 2.1 Data sources"
        },
        {
            "metadata": {},
            "cell_type": "code",
            "source": "",
            "execution_count": null,
            "outputs": []
        },
        {
            "metadata": {},
            "cell_type": "markdown",
            "source": "#### 2.2 Data cleaning"
        },
        {
            "metadata": {},
            "cell_type": "code",
            "source": "",
            "execution_count": null,
            "outputs": []
        }
    ],
    "metadata": {
        "kernelspec": {
            "name": "python3",
            "display_name": "Python 3.7",
            "language": "python"
        },
        "language_info": {
            "name": "python",
            "version": "3.7.10",
            "mimetype": "text/x-python",
            "codemirror_mode": {
                "name": "ipython",
                "version": 3
            },
            "pygments_lexer": "ipython3",
            "nbconvert_exporter": "python",
            "file_extension": ".py"
        }
    },
    "nbformat": 4,
    "nbformat_minor": 1
}